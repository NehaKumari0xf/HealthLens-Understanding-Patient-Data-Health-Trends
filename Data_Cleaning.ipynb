{
 "cells": [
  {
   "cell_type": "markdown",
   "id": "5941b875-d375-4ece-8fc6-6efedc1d8caf",
   "metadata": {},
   "source": [
    "# Project Name: HealthLens – Understanding Patient Data & Health Trends"
   ]
  },
  {
   "cell_type": "markdown",
   "id": "cf8b0150-0588-4e65-b7fd-958922125e32",
   "metadata": {},
   "source": [
    "## Task1. Data Cleaning."
   ]
  },
  {
   "cell_type": "markdown",
   "id": "fcea53d2-83c6-4492-97b4-362172bc885e",
   "metadata": {},
   "source": [
    "### 1. Import and Load the Dataset"
   ]
  },
  {
   "cell_type": "code",
   "execution_count": 49,
   "id": "9b50a4df-c5c6-4b5f-832b-3936c0db7c60",
   "metadata": {},
   "outputs": [],
   "source": [
    "#imporst library\n",
    "import pandas as pd"
   ]
  },
  {
   "cell_type": "code",
   "execution_count": 51,
   "id": "60936eba-d350-407a-a362-271bc7a13565",
   "metadata": {},
   "outputs": [],
   "source": [
    "# Load dataset\n",
    "df = pd.read_csv(\"uncleaned_heart_cleveland_dataset.csv\") "
   ]
  },
  {
   "cell_type": "markdown",
   "id": "ae977cad-63ce-4aab-afca-044360262d7b",
   "metadata": {},
   "source": [
    "### 2. Rename Technical Column Names"
   ]
  },
  {
   "cell_type": "code",
   "execution_count": 54,
   "id": "c84d4d76-1bf1-4242-b499-9e754d821285",
   "metadata": {},
   "outputs": [],
   "source": [
    "df.rename(columns={\n",
    "    'age': 'Age',\n",
    "    'sex': 'Sex',\n",
    "    'cp': 'ChestPainType',\n",
    "    'trestbps': 'RestingBP',\n",
    "    'chol': 'Cholesterol',\n",
    "    'fbs': 'FastingBS',\n",
    "    'restecg': 'RestingECG',\n",
    "    'thalach': 'MaxHR',\n",
    "    'exang': 'ExerciseAngina',\n",
    "    'oldpeak': 'Oldpeak',\n",
    "    'slope': 'ST_Slope',\n",
    "    'ca': 'NumMajorVessels',\n",
    "    'thal': 'Thalassemia',\n",
    "    'condition': 'HeartDisease'\n",
    "}, inplace=True)\n"
   ]
  },
  {
   "cell_type": "markdown",
   "id": "1659b438-fa6b-4fe6-9864-88cb474990c6",
   "metadata": {},
   "source": [
    "### 3. Handle Missing or Abnormal Values"
   ]
  },
  {
   "cell_type": "code",
   "execution_count": 57,
   "id": "b056c6b1-6b9d-4eb3-86c7-ecc10f9e6fa2",
   "metadata": {},
   "outputs": [],
   "source": [
    "# Replace '?' with NaN and convert appropriate columns to numeric\n",
    "df.replace('?', pd.NA, inplace=True)\n",
    "\n",
    "# Convert specific columns to numeric, forcing errors to NaN\n",
    "df['NumMajorVessels'] = pd.to_numeric(df['NumMajorVessels'], errors='coerce')\n",
    "df['Thalassemia'] = pd.to_numeric(df['Thalassemia'], errors='coerce')\n",
    "\n",
    "# Drop rows with missing values\n",
    "df.dropna(inplace=True)\n",
    "\n",
    "# Reset index\n",
    "df.reset_index(drop=True, inplace=True)\n"
   ]
  },
  {
   "cell_type": "markdown",
   "id": "0fc972e3-fcc7-4665-b153-3add9c7694a1",
   "metadata": {},
   "source": [
    "### 4. Convert Categorical Variables to Readable Labels"
   ]
  },
  {
   "cell_type": "code",
   "execution_count": 60,
   "id": "dfb2a101-b1f6-4b75-8f8f-294fb04dce17",
   "metadata": {},
   "outputs": [],
   "source": [
    "# Convert 'Sex' column\n",
    "df['Sex'] = df['Sex'].map({0: 'Female', 1: 'Male'})\n",
    "\n",
    "# Convert 'ChestPainType' column\n",
    "df['ChestPainType'] = df['ChestPainType'].map({\n",
    "    0: 'Typical Angina',\n",
    "    1: 'Atypical Angina',\n",
    "    2: 'Non-Anginal Pain',\n",
    "    3: 'Asymptomatic'\n",
    "})\n",
    "\n",
    "# Convert 'FastingBS'\n",
    "df['FastingBS'] = df['FastingBS'].map({0: '≤120 mg/dl', 1: '>120 mg/dl'})\n",
    "\n",
    "# Convert 'RestingECG'\n",
    "df['RestingECG'] = df['RestingECG'].map({\n",
    "    0: 'Normal',\n",
    "    1: 'ST-T Abnormality',\n",
    "    2: 'Left Ventricular Hypertrophy'\n",
    "})\n",
    "\n",
    "# Convert 'ExerciseAngina'\n",
    "df['ExerciseAngina'] = df['ExerciseAngina'].map({0: 'No', 1: 'Yes'})\n",
    "\n",
    "# Convert 'ST_Slope'\n",
    "df['ST_Slope'] = df['ST_Slope'].map({\n",
    "    0: 'Upsloping',\n",
    "    1: 'Flat',\n",
    "    2: 'Downsloping'\n",
    "})\n",
    "\n",
    "# Convert 'Thalassemia'\n",
    "df['Thalassemia'] = df['Thalassemia'].map({\n",
    "    0: 'Normal',\n",
    "    1: 'Fixed Defect',\n",
    "    2: 'Reversible Defect'\n",
    "})\n",
    "\n",
    "# Convert 'Heart Disease'\n",
    "df['HeartDisease'] = df['HeartDisease'].map({0: 'No', 1: 'Yes'})"
   ]
  },
  {
   "cell_type": "markdown",
   "id": "c2ce1fb9-62cb-4adc-8cbc-bc133358699c",
   "metadata": {},
   "source": [
    "### Checking Null Values"
   ]
  },
  {
   "cell_type": "code",
   "execution_count": 63,
   "id": "2bd438eb-f733-466b-94df-81098c90b6e5",
   "metadata": {},
   "outputs": [
    {
     "data": {
      "text/plain": [
       "Age                0\n",
       "Sex                0\n",
       "ChestPainType      0\n",
       "RestingBP          0\n",
       "Cholesterol        0\n",
       "FastingBS          0\n",
       "RestingECG         0\n",
       "MaxHR              0\n",
       "ExerciseAngina     0\n",
       "Oldpeak            0\n",
       "ST_Slope           0\n",
       "NumMajorVessels    0\n",
       "Thalassemia        0\n",
       "HeartDisease       0\n",
       "dtype: int64"
      ]
     },
     "execution_count": 63,
     "metadata": {},
     "output_type": "execute_result"
    }
   ],
   "source": [
    "df.isnull().sum()"
   ]
  },
  {
   "cell_type": "markdown",
   "id": "9c2fd2fb-5eaa-4f31-bbac-ad72e17a168b",
   "metadata": {},
   "source": [
    "### Output"
   ]
  },
  {
   "cell_type": "code",
   "execution_count": 66,
   "id": "1b3d08a5-bb1f-43b1-9ed6-92190643b824",
   "metadata": {},
   "outputs": [
    {
     "name": "stdout",
     "output_type": "stream",
     "text": [
      "   Age     Sex   ChestPainType  RestingBP  Cholesterol   FastingBS  \\\n",
      "0   69    Male  Typical Angina        160          234  >120 mg/dl   \n",
      "1   69  Female  Typical Angina        140          239  ≤120 mg/dl   \n",
      "2   66  Female  Typical Angina        150          226  ≤120 mg/dl   \n",
      "3   65    Male  Typical Angina        138          282  >120 mg/dl   \n",
      "4   64    Male  Typical Angina        110          211  ≤120 mg/dl   \n",
      "\n",
      "                     RestingECG  MaxHR ExerciseAngina  Oldpeak     ST_Slope  \\\n",
      "0  Left Ventricular Hypertrophy    131             No      0.1         Flat   \n",
      "1                        Normal    151             No      1.8    Upsloping   \n",
      "2                        Normal    114             No      2.6  Downsloping   \n",
      "3  Left Ventricular Hypertrophy    174             No      1.4         Flat   \n",
      "4  Left Ventricular Hypertrophy    144            Yes      1.8         Flat   \n",
      "\n",
      "   NumMajorVessels Thalassemia HeartDisease  \n",
      "0                1      Normal           No  \n",
      "1                2      Normal           No  \n",
      "2                0      Normal           No  \n",
      "3                1      Normal          Yes  \n",
      "4                0      Normal           No  \n"
     ]
    }
   ],
   "source": [
    "print(df.head())"
   ]
  },
  {
   "cell_type": "code",
   "execution_count": 68,
   "id": "091b517d-07c7-4ff9-b283-ea26fcbd6592",
   "metadata": {},
   "outputs": [],
   "source": [
    "# Save DataFrame to CSV\n",
    "df.to_csv(\"cleaned_heart_cleveland_dataset.csv\", index=False)"
   ]
  },
  {
   "cell_type": "code",
   "execution_count": null,
   "id": "aa3c655d-aa6b-4d15-9125-1186c7eb5a4a",
   "metadata": {},
   "outputs": [],
   "source": []
  }
 ],
 "metadata": {
  "kernelspec": {
   "display_name": "Python [conda env:base] *",
   "language": "python",
   "name": "conda-base-py"
  },
  "language_info": {
   "codemirror_mode": {
    "name": "ipython",
    "version": 3
   },
   "file_extension": ".py",
   "mimetype": "text/x-python",
   "name": "python",
   "nbconvert_exporter": "python",
   "pygments_lexer": "ipython3",
   "version": "3.12.7"
  }
 },
 "nbformat": 4,
 "nbformat_minor": 5
}
